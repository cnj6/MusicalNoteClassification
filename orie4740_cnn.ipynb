{
 "cells": [
  {
   "cell_type": "code",
   "execution_count": null,
   "metadata": {
    "id": "jZcVgQNc_u0U"
   },
   "outputs": [],
   "source": [
    "#import libraries\n",
    "import numpy as np\n",
    "import pandas\n",
    "import sklearn.preprocessing\n",
    "from sklearn.linear_model import LogisticRegression, LogisticRegressionCV\n",
    "from sklearn.model_selection import train_test_split, RandomizedSearchCV, GridSearchCV\n",
    "from sklearn.metrics import accuracy_score\n",
    "from sklearn.neural_network import MLPClassifier\n",
    "from sklearn.neural_network import MLPRegressor\n",
    "from sklearn.metrics import classification_report\n",
    "import time\n",
    "import keras\n",
    "from keras.models import Sequential\n",
    "from keras.layers.core import Dense, Dropout, Activation, Flatten\n",
    "from keras.layers.convolutional import Convolution2D, MaxPooling2D"
   ]
  },
  {
   "cell_type": "code",
   "execution_count": null,
   "metadata": {
    "id": "2WyHUl5qAqjO"
   },
   "outputs": [],
   "source": [
    "#import data\n",
    "data_small = pandas.read_csv('data28.csv')\n",
    "y = data_small['label']\n",
    "X = data_small[data_small.columns[1:]]\n",
    "\n",
    "# 70-30 train-test split\n",
    "X_train, X_test, y_train, y_test = train_test_split(X, y, test_size = 0.2, random_state = 1)"
   ]
  },
  {
   "cell_type": "code",
   "execution_count": null,
   "metadata": {
    "id": "dB6GjLmFA4zS"
   },
   "outputs": [],
   "source": [
    "#preprocess\n",
    "\n",
    "indices_to_keep=~X_train.isin([np.nan,np.inf,-np.inf]).any(1)\n",
    "\n",
    "X_train=X_train[indices_to_keep]\n",
    "y_train=y_train[indices_to_keep]\n",
    "\n",
    "indices_to_keep_test=~X_test.isin([np.nan,np.inf,-np.inf]).any(1)\n",
    "\n",
    "X_test=X_test[indices_to_keep_test]\n",
    "y_test=y_test[indices_to_keep_test]"
   ]
  },
  {
   "cell_type": "code",
   "execution_count": null,
   "metadata": {
    "id": "VK7rhlukMalK"
   },
   "outputs": [],
   "source": [
    "length = len(X_train)\n",
    "X_train=X_train.iloc[:,:].values.reshape(length,28,28,1)\n",
    "length_t = len(X_test)\n",
    "X_test = X_test.iloc[:,:].values.reshape(length_t,28,28,1)"
   ]
  },
  {
   "cell_type": "code",
   "execution_count": null,
   "metadata": {
    "id": "H5bUZSu0OltQ"
   },
   "outputs": [],
   "source": [
    "y_train_n = []\n",
    "for item in y_train:\n",
    "    if item == \"Whole\":\n",
    "        y_train_n.append(0)\n",
    "    elif item == \"Half\":\n",
    "        y_train_n.append(1)\n",
    "    elif item == \"Quarter\":\n",
    "        y_train_n.append(2)\n",
    "    elif item == \"Eight\":\n",
    "        y_train_n.append(3)\n",
    "    elif item == \"Sixteenth\":\n",
    "        y_train_n.append(4)\n",
    "y_train_n = keras.utils.to_categorical(y_train_n, num_classes=5)"
   ]
  },
  {
   "cell_type": "code",
   "execution_count": null,
   "metadata": {
    "id": "kalt7uU37c9R"
   },
   "outputs": [],
   "source": [
    "y_test_n = []\n",
    "for ele in y_test:\n",
    "    if ele == \"Whole\":\n",
    "        y_test_n.append(0)\n",
    "    elif ele == \"Half\":\n",
    "        y_test_n.append(1)\n",
    "    elif ele == \"Quarter\":\n",
    "        y_test_n.append(2)\n",
    "    elif ele == \"Eight\":\n",
    "        y_test_n.append(3)\n",
    "    elif ele == \"Sixteenth\":\n",
    "        y_test_n.append(4)\n",
    "y_test_n = keras.utils.to_categorical(y_test_n, num_classes=5)"
   ]
  },
  {
   "cell_type": "code",
   "execution_count": null,
   "metadata": {
    "id": "1Jp2JhaLBXWC"
   },
   "outputs": [],
   "source": [
    "#CNN\n",
    "model = Sequential()\n",
    "model.add(Convolution2D(32,3,data_format=\"channels_last\",activation=\"relu\",input_shape=(28,28,1)))\n",
    "model.add(MaxPooling2D(pool_size=(2,2)))\n",
    "model.add(Convolution2D(50,11,activation=\"relu\"))\n",
    "model.add(MaxPooling2D(pool_size=(2,2)))\n",
    "model.add(Flatten())\n",
    "model.add(Dense(100))\n",
    "model.add(Dense(5))\n",
    "model.add(Activation('softmax'))\n",
    "model.compile(loss='categorical_crossentropy', optimizer = 'adadelta', metrics=['accuracy'])"
   ]
  },
  {
   "cell_type": "code",
   "execution_count": null,
   "metadata": {
    "colab": {
     "base_uri": "https://localhost:8080/"
    },
    "id": "p9RrJiDFIqVr",
    "outputId": "294f6122-9c1f-4608-c021-3f3750decab8",
    "scrolled": true
   },
   "outputs": [
    {
     "name": "stdout",
     "output_type": "stream",
     "text": [
      "Model: \"sequential_17\"\n",
      "_________________________________________________________________\n",
      "Layer (type)                 Output Shape              Param #   \n",
      "=================================================================\n",
      "conv2d_37 (Conv2D)           (None, 26, 26, 32)        320       \n",
      "_________________________________________________________________\n",
      "max_pooling2d_29 (MaxPooling (None, 13, 13, 32)        0         \n",
      "_________________________________________________________________\n",
      "conv2d_38 (Conv2D)           (None, 3, 3, 50)          193650    \n",
      "_________________________________________________________________\n",
      "max_pooling2d_30 (MaxPooling (None, 1, 1, 50)          0         \n",
      "_________________________________________________________________\n",
      "flatten_8 (Flatten)          (None, 50)                0         \n",
      "_________________________________________________________________\n",
      "dense_16 (Dense)             (None, 100)               5100      \n",
      "_________________________________________________________________\n",
      "dense_17 (Dense)             (None, 5)                 505       \n",
      "_________________________________________________________________\n",
      "activation_8 (Activation)    (None, 5)                 0         \n",
      "=================================================================\n",
      "Total params: 199,575\n",
      "Trainable params: 199,575\n",
      "Non-trainable params: 0\n",
      "_________________________________________________________________\n"
     ]
    }
   ],
   "source": [
    "model.summary()"
   ]
  },
  {
   "cell_type": "code",
   "execution_count": null,
   "metadata": {
    "colab": {
     "base_uri": "https://localhost:8080/"
    },
    "id": "dJTlYg_d4pz0",
    "outputId": "1c87221a-3274-4b65-8db5-85940e710c4c"
   },
   "outputs": [
    {
     "name": "stdout",
     "output_type": "stream",
     "text": [
      "Epoch 1/50\n",
      "125/125 [==============================] - 5s 43ms/step - loss: 0.1081 - accuracy: 0.9705 - val_loss: 0.2376 - val_accuracy: 0.9250\n",
      "Epoch 2/50\n",
      "125/125 [==============================] - 5s 43ms/step - loss: 0.1076 - accuracy: 0.9745 - val_loss: 0.2346 - val_accuracy: 0.9290\n",
      "Epoch 3/50\n",
      "125/125 [==============================] - 5s 44ms/step - loss: 0.1071 - accuracy: 0.9730 - val_loss: 0.2405 - val_accuracy: 0.9230\n",
      "Epoch 4/50\n",
      "125/125 [==============================] - 5s 43ms/step - loss: 0.1066 - accuracy: 0.9750 - val_loss: 0.2355 - val_accuracy: 0.9270\n",
      "Epoch 5/50\n",
      "125/125 [==============================] - 5s 43ms/step - loss: 0.1051 - accuracy: 0.9750 - val_loss: 0.2340 - val_accuracy: 0.9280\n",
      "Epoch 6/50\n",
      "125/125 [==============================] - 5s 43ms/step - loss: 0.1047 - accuracy: 0.9740 - val_loss: 0.2299 - val_accuracy: 0.9260\n",
      "Epoch 7/50\n",
      "125/125 [==============================] - 6s 44ms/step - loss: 0.1041 - accuracy: 0.9755 - val_loss: 0.2315 - val_accuracy: 0.9250\n",
      "Epoch 8/50\n",
      "125/125 [==============================] - 5s 44ms/step - loss: 0.1026 - accuracy: 0.9753 - val_loss: 0.2310 - val_accuracy: 0.9210\n",
      "Epoch 9/50\n",
      "125/125 [==============================] - 5s 43ms/step - loss: 0.1026 - accuracy: 0.9745 - val_loss: 0.2292 - val_accuracy: 0.9250\n",
      "Epoch 10/50\n",
      "125/125 [==============================] - 5s 44ms/step - loss: 0.1025 - accuracy: 0.9732 - val_loss: 0.2273 - val_accuracy: 0.9230\n",
      "Epoch 11/50\n",
      "125/125 [==============================] - 6s 45ms/step - loss: 0.1017 - accuracy: 0.9762 - val_loss: 0.2349 - val_accuracy: 0.9240\n",
      "Epoch 12/50\n",
      "125/125 [==============================] - 5s 43ms/step - loss: 0.1011 - accuracy: 0.9753 - val_loss: 0.2304 - val_accuracy: 0.9280\n",
      "Epoch 13/50\n",
      "125/125 [==============================] - 5s 44ms/step - loss: 0.1004 - accuracy: 0.9770 - val_loss: 0.2265 - val_accuracy: 0.9230\n",
      "Epoch 14/50\n",
      "125/125 [==============================] - 5s 44ms/step - loss: 0.0999 - accuracy: 0.9762 - val_loss: 0.2276 - val_accuracy: 0.9320\n",
      "Epoch 15/50\n",
      "125/125 [==============================] - 5s 43ms/step - loss: 0.0994 - accuracy: 0.9762 - val_loss: 0.2231 - val_accuracy: 0.9260\n",
      "Epoch 16/50\n",
      "125/125 [==============================] - 5s 44ms/step - loss: 0.0981 - accuracy: 0.9755 - val_loss: 0.2291 - val_accuracy: 0.9300\n",
      "Epoch 17/50\n",
      "125/125 [==============================] - 5s 44ms/step - loss: 0.0980 - accuracy: 0.9772 - val_loss: 0.2300 - val_accuracy: 0.9230\n",
      "Epoch 18/50\n",
      "125/125 [==============================] - 6s 45ms/step - loss: 0.0962 - accuracy: 0.9790 - val_loss: 0.2257 - val_accuracy: 0.9270\n",
      "Epoch 19/50\n",
      "125/125 [==============================] - 6s 44ms/step - loss: 0.0968 - accuracy: 0.9765 - val_loss: 0.2222 - val_accuracy: 0.9270\n",
      "Epoch 20/50\n",
      "125/125 [==============================] - 6s 44ms/step - loss: 0.0957 - accuracy: 0.9787 - val_loss: 0.2267 - val_accuracy: 0.9230\n",
      "Epoch 21/50\n",
      "125/125 [==============================] - 5s 44ms/step - loss: 0.0949 - accuracy: 0.9783 - val_loss: 0.2293 - val_accuracy: 0.9320\n",
      "Epoch 22/50\n",
      "125/125 [==============================] - 5s 44ms/step - loss: 0.0937 - accuracy: 0.9793 - val_loss: 0.2282 - val_accuracy: 0.9220\n",
      "Epoch 23/50\n",
      "125/125 [==============================] - 6s 45ms/step - loss: 0.0938 - accuracy: 0.9795 - val_loss: 0.2323 - val_accuracy: 0.9240\n",
      "Epoch 24/50\n",
      "125/125 [==============================] - 6s 47ms/step - loss: 0.0942 - accuracy: 0.9793 - val_loss: 0.2248 - val_accuracy: 0.9250\n",
      "Epoch 25/50\n",
      "125/125 [==============================] - 6s 46ms/step - loss: 0.0924 - accuracy: 0.9790 - val_loss: 0.2220 - val_accuracy: 0.9270\n",
      "Epoch 26/50\n",
      "125/125 [==============================] - 5s 43ms/step - loss: 0.0927 - accuracy: 0.9790 - val_loss: 0.2162 - val_accuracy: 0.9290\n",
      "Epoch 27/50\n",
      "125/125 [==============================] - 6s 44ms/step - loss: 0.0920 - accuracy: 0.9783 - val_loss: 0.2176 - val_accuracy: 0.9320\n",
      "Epoch 28/50\n",
      "125/125 [==============================] - 5s 44ms/step - loss: 0.0915 - accuracy: 0.9793 - val_loss: 0.2200 - val_accuracy: 0.9230\n",
      "Epoch 29/50\n",
      "125/125 [==============================] - 5s 44ms/step - loss: 0.0915 - accuracy: 0.9805 - val_loss: 0.2168 - val_accuracy: 0.9270\n",
      "Epoch 30/50\n",
      "125/125 [==============================] - 6s 44ms/step - loss: 0.0914 - accuracy: 0.9787 - val_loss: 0.2214 - val_accuracy: 0.9300\n",
      "Epoch 31/50\n",
      "125/125 [==============================] - 5s 44ms/step - loss: 0.0891 - accuracy: 0.9820 - val_loss: 0.2167 - val_accuracy: 0.9350\n",
      "Epoch 32/50\n",
      "125/125 [==============================] - 6s 44ms/step - loss: 0.0887 - accuracy: 0.9800 - val_loss: 0.2128 - val_accuracy: 0.9330\n",
      "Epoch 33/50\n",
      "125/125 [==============================] - 6s 44ms/step - loss: 0.0888 - accuracy: 0.9797 - val_loss: 0.2206 - val_accuracy: 0.9320\n",
      "Epoch 34/50\n",
      "125/125 [==============================] - 6s 44ms/step - loss: 0.0883 - accuracy: 0.9797 - val_loss: 0.2218 - val_accuracy: 0.9350\n",
      "Epoch 35/50\n",
      "125/125 [==============================] - 6s 44ms/step - loss: 0.0874 - accuracy: 0.9810 - val_loss: 0.2216 - val_accuracy: 0.9240\n",
      "Epoch 36/50\n",
      "125/125 [==============================] - 5s 44ms/step - loss: 0.0879 - accuracy: 0.9810 - val_loss: 0.2152 - val_accuracy: 0.9310\n",
      "Epoch 37/50\n",
      "125/125 [==============================] - 6s 44ms/step - loss: 0.0859 - accuracy: 0.9800 - val_loss: 0.2129 - val_accuracy: 0.9380\n",
      "Epoch 38/50\n",
      "125/125 [==============================] - 5s 44ms/step - loss: 0.0852 - accuracy: 0.9822 - val_loss: 0.2147 - val_accuracy: 0.9240\n",
      "Epoch 39/50\n",
      "125/125 [==============================] - 6s 45ms/step - loss: 0.0857 - accuracy: 0.9797 - val_loss: 0.2171 - val_accuracy: 0.9320\n",
      "Epoch 40/50\n",
      "125/125 [==============================] - 6s 44ms/step - loss: 0.0845 - accuracy: 0.9820 - val_loss: 0.2141 - val_accuracy: 0.9360\n",
      "Epoch 41/50\n",
      "125/125 [==============================] - 5s 44ms/step - loss: 0.0841 - accuracy: 0.9815 - val_loss: 0.2205 - val_accuracy: 0.9250\n",
      "Epoch 42/50\n",
      "125/125 [==============================] - 5s 44ms/step - loss: 0.0833 - accuracy: 0.9818 - val_loss: 0.2099 - val_accuracy: 0.9310\n",
      "Epoch 43/50\n",
      "125/125 [==============================] - 6s 44ms/step - loss: 0.0838 - accuracy: 0.9818 - val_loss: 0.2144 - val_accuracy: 0.9380\n",
      "Epoch 44/50\n",
      "125/125 [==============================] - 5s 43ms/step - loss: 0.0835 - accuracy: 0.9797 - val_loss: 0.2177 - val_accuracy: 0.9300\n",
      "Epoch 45/50\n",
      "125/125 [==============================] - 5s 41ms/step - loss: 0.0829 - accuracy: 0.9822 - val_loss: 0.2118 - val_accuracy: 0.9350\n",
      "Epoch 46/50\n",
      "125/125 [==============================] - 6s 45ms/step - loss: 0.0818 - accuracy: 0.9850 - val_loss: 0.2065 - val_accuracy: 0.9350\n",
      "Epoch 47/50\n",
      "125/125 [==============================] - 6s 45ms/step - loss: 0.0808 - accuracy: 0.9820 - val_loss: 0.2106 - val_accuracy: 0.9330\n",
      "Epoch 48/50\n",
      "125/125 [==============================] - 6s 45ms/step - loss: 0.0819 - accuracy: 0.9818 - val_loss: 0.2089 - val_accuracy: 0.9400\n",
      "Epoch 49/50\n",
      "125/125 [==============================] - 6s 46ms/step - loss: 0.0807 - accuracy: 0.9840 - val_loss: 0.2083 - val_accuracy: 0.9340\n",
      "Epoch 50/50\n",
      "125/125 [==============================] - 6s 46ms/step - loss: 0.0797 - accuracy: 0.9843 - val_loss: 0.2061 - val_accuracy: 0.9420\n"
     ]
    },
    {
     "data": {
      "text/plain": [
       "<tensorflow.python.keras.callbacks.History at 0x7f1a51fa0950>"
      ]
     },
     "execution_count": 130,
     "metadata": {
      "tags": []
     },
     "output_type": "execute_result"
    }
   ],
   "source": [
    "model.fit(X_train, y_train_n, validation_data = (X_test, y_test_n), epochs=50)"
   ]
  },
  {
   "cell_type": "code",
   "execution_count": null,
   "metadata": {
    "colab": {
     "base_uri": "https://localhost:8080/"
    },
    "id": "jgkb3yjM6aVM",
    "outputId": "76bf8677-8152-4e40-ee83-d487253c615d"
   },
   "outputs": [
    {
     "data": {
      "text/plain": [
       "array([[2.13201929e-05, 5.81134930e-02, 9.35856402e-01, 5.18457592e-03,\n",
       "        8.24177056e-04],\n",
       "       [2.04255957e-05, 1.96048475e-07, 4.83509572e-03, 2.34344825e-01,\n",
       "        7.60799408e-01],\n",
       "       [7.67301462e-05, 2.05981178e-05, 1.19669705e-04, 7.66640306e-01,\n",
       "        2.33142763e-01],\n",
       "       ...,\n",
       "       [3.23594418e-06, 5.94411176e-05, 1.21282364e-05, 6.40061125e-02,\n",
       "        9.35919046e-01],\n",
       "       [1.34581060e-04, 9.85395849e-01, 1.28430277e-02, 1.57879980e-03,\n",
       "        4.77127396e-05],\n",
       "       [3.14491044e-05, 5.04059310e-04, 9.98670220e-01, 4.06294275e-04,\n",
       "        3.87986831e-04]], dtype=float32)"
      ]
     },
     "execution_count": 131,
     "metadata": {
      "tags": []
     },
     "output_type": "execute_result"
    }
   ],
   "source": [
    "model.predict(X_test)"
   ]
  },
  {
   "cell_type": "code",
   "execution_count": null,
   "metadata": {
    "colab": {
     "base_uri": "https://localhost:8080/"
    },
    "id": "PeqSrAPv7Arm",
    "outputId": "59e141e2-0a43-487d-efb3-f93517d05dae"
   },
   "outputs": [
    {
     "name": "stdout",
     "output_type": "stream",
     "text": [
      "32/32 [==============================] - 0s 9ms/step - loss: 0.2061 - accuracy: 0.9420\n"
     ]
    },
    {
     "data": {
      "text/plain": [
       "[0.20614472031593323, 0.9419999718666077]"
      ]
     },
     "execution_count": 132,
     "metadata": {
      "tags": []
     },
     "output_type": "execute_result"
    }
   ],
   "source": [
    "model.evaluate(X_test, y_test_n)"
   ]
  }
 ],
 "metadata": {
  "colab": {
   "name": "orie4740_cnn.ipynb",
   "provenance": []
  },
  "kernelspec": {
   "display_name": "Python 3",
   "language": "python",
   "name": "python3"
  },
  "language_info": {
   "codemirror_mode": {
    "name": "ipython",
    "version": 3
   },
   "file_extension": ".py",
   "mimetype": "text/x-python",
   "name": "python",
   "nbconvert_exporter": "python",
   "pygments_lexer": "ipython3",
   "version": "3.7.6"
  }
 },
 "nbformat": 4,
 "nbformat_minor": 1
}
