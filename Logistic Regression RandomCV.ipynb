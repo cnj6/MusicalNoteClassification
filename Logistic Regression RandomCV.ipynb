{
 "cells": [
  {
   "cell_type": "markdown",
   "metadata": {
    "id": "9ZqfLhQCapiB"
   },
   "source": [
    "# Logistic Regression via Randomized Search CV # "
   ]
  },
  {
   "cell_type": "code",
   "execution_count": 2,
   "metadata": {
    "id": "Z2PtdICtapiC"
   },
   "outputs": [],
   "source": [
    "import numpy as np\n",
    "import pandas\n",
    "from sklearn.linear_model import LogisticRegression, LogisticRegressionCV\n",
    "from sklearn.model_selection import train_test_split, RandomizedSearchCV\n",
    "from sklearn.metrics import accuracy_score\n",
    "import time"
   ]
  },
  {
   "cell_type": "markdown",
   "metadata": {
    "id": "jlw86QMqapiD"
   },
   "source": [
    "Run Logistic Regression on TWO datasets: One for the 28x28 images, one for the 64x64 images. "
   ]
  },
  {
   "cell_type": "markdown",
   "metadata": {
    "id": "dUQxJzPiapiD"
   },
   "source": [
    "## 28 x 28 images ##"
   ]
  },
  {
   "cell_type": "code",
   "execution_count": 3,
   "metadata": {
    "id": "ogtp6E-3apiD"
   },
   "outputs": [],
   "source": [
    "data = pandas.read_csv('data28.csv')\n",
    "y = data['label'].values\n",
    "X = data[data.columns[1:]].values\n",
    "\n",
    "# 70-30 train-test split\n",
    "X_train, X_test, y_train, y_test = train_test_split(X, y, test_size = 0.7, random_state = 1)"
   ]
  },
  {
   "cell_type": "code",
   "execution_count": 4,
   "metadata": {
    "colab": {
     "base_uri": "https://localhost:8080/"
    },
    "id": "LL8M8zmTapiE",
    "outputId": "c781f56e-78e4-4718-9dc4-a88a11e74cec"
   },
   "outputs": [
    {
     "name": "stdout",
     "output_type": "stream",
     "text": [
      "Fitting 5 folds for each of 10 candidates, totalling 50 fits\n",
      "Randomized search (10 iterations) for 28 x 28 images took 23.3782320022583 seconds\n"
     ]
    },
    {
     "name": "stderr",
     "output_type": "stream",
     "text": [
      "/Users/michaelzhou/anaconda3/lib/python3.7/site-packages/sklearn/linear_model/_logistic.py:765: ConvergenceWarning: lbfgs failed to converge (status=1):\n",
      "STOP: TOTAL NO. of ITERATIONS REACHED LIMIT.\n",
      "\n",
      "Increase the number of iterations (max_iter) or scale the data as shown in:\n",
      "    https://scikit-learn.org/stable/modules/preprocessing.html\n",
      "Please also refer to the documentation for alternative solver options:\n",
      "    https://scikit-learn.org/stable/modules/linear_model.html#logistic-regression\n",
      "  extra_warning_msg=_LOGISTIC_SOLVER_CONVERGENCE_MSG)\n"
     ]
    }
   ],
   "source": [
    "grid={\"C\" : np.append(np.logspace(-3,3,7), 0), 'penalty' : [\"l2\"], \"max_iter\": [100,150,200,250,300,350,400]} # l1: lasso, l2: ridge\n",
    "logreg=LogisticRegression()\n",
    "logreg_cv_=RandomizedSearchCV(logreg,grid,cv=5,n_jobs=-1,verbose=4,random_state=1,n_iter=10) # run all jobs in parallel (n_jobs=-1), and print the CV accuracy per fold on the terminal (verbose = 4)\n",
    "t0 = time.time()\n",
    "logreg_cv_.fit(X_train,y_train)\n",
    "t1 = time.time()\n",
    "print('Randomized search (10 iterations) for 28 x 28 images took', t1 - t0, 'seconds')"
   ]
  },
  {
   "cell_type": "code",
   "execution_count": 5,
   "metadata": {},
   "outputs": [
    {
     "name": "stdout",
     "output_type": "stream",
     "text": [
      "tuned hyperparameters: (best parameters)  {'penalty': 'l2', 'max_iter': 200, 'C': 0.001}\n",
      "CV accuracy : 0.8386666666666667\n"
     ]
    }
   ],
   "source": [
    "print(\"tuned hyperparameters: (best parameters) \",logreg_cv_.best_params_)\n",
    "print(\"CV accuracy :\",logreg_cv_.best_score_)"
   ]
  },
  {
   "cell_type": "code",
   "execution_count": 6,
   "metadata": {
    "colab": {
     "base_uri": "https://localhost:8080/"
    },
    "id": "SdmZw_mIapiF",
    "outputId": "045b1847-cee6-4725-990f-15e912783d99"
   },
   "outputs": [
    {
     "name": "stdout",
     "output_type": "stream",
     "text": [
      "Training for 28 x 28 images took 0.7330210208892822 seconds\n"
     ]
    },
    {
     "name": "stderr",
     "output_type": "stream",
     "text": [
      "/Users/michaelzhou/anaconda3/lib/python3.7/site-packages/sklearn/linear_model/_logistic.py:765: ConvergenceWarning: lbfgs failed to converge (status=1):\n",
      "STOP: TOTAL NO. of ITERATIONS REACHED LIMIT.\n",
      "\n",
      "Increase the number of iterations (max_iter) or scale the data as shown in:\n",
      "    https://scikit-learn.org/stable/modules/preprocessing.html\n",
      "Please also refer to the documentation for alternative solver options:\n",
      "    https://scikit-learn.org/stable/modules/linear_model.html#logistic-regression\n",
      "  extra_warning_msg=_LOGISTIC_SOLVER_CONVERGENCE_MSG)\n"
     ]
    }
   ],
   "source": [
    "C = logreg_cv_.best_params_['C']\n",
    "max_iter = logreg_cv_.best_params_['max_iter']\n",
    "penalty = logreg_cv_.best_params_['penalty']\n",
    "\n",
    "lr = LogisticRegression(max_iter=max_iter, C=C, penalty=penalty)\n",
    "t0 = time.time()\n",
    "lr.fit(X_train, y_train.flatten())\n",
    "t1 = time.time()\n",
    "print('Training for 28 x 28 images took', t1 - t0, 'seconds')"
   ]
  },
  {
   "cell_type": "code",
   "execution_count": 7,
   "metadata": {
    "colab": {
     "base_uri": "https://localhost:8080/"
    },
    "id": "I6Vv-iRCapiH",
    "outputId": "43f352e1-8b8b-4147-e438-793250d04f03"
   },
   "outputs": [
    {
     "data": {
      "text/plain": [
       "0.9713333333333334"
      ]
     },
     "execution_count": 7,
     "metadata": {},
     "output_type": "execute_result"
    }
   ],
   "source": [
    "# training accuracy\n",
    "train_acc = accuracy_score(y_train, lr.predict(X_train)) \n",
    "train_acc"
   ]
  },
  {
   "cell_type": "code",
   "execution_count": 8,
   "metadata": {
    "colab": {
     "base_uri": "https://localhost:8080/"
    },
    "id": "rAqsaH5DapiH",
    "outputId": "e49d5a04-ba52-4acf-8ff6-bc5c8d7a541d",
    "scrolled": true
   },
   "outputs": [
    {
     "data": {
      "text/plain": [
       "0.8517142857142858"
      ]
     },
     "execution_count": 8,
     "metadata": {},
     "output_type": "execute_result"
    }
   ],
   "source": [
    "# test accuracy\n",
    "test_acc = accuracy_score(y_test, lr.predict(X_test)) \n",
    "test_acc"
   ]
  },
  {
   "cell_type": "code",
   "execution_count": 9,
   "metadata": {},
   "outputs": [],
   "source": [
    "# write cv results (such as mean fit times for each hyperparam configuration) to file.\n",
    "with open('logreg_28_randomcv.txt', 'w') as file:\n",
    "    file.write(str(logreg_cv_.cv_results_))\n",
    "    file.close()"
   ]
  },
  {
   "cell_type": "code",
   "execution_count": 10,
   "metadata": {},
   "outputs": [],
   "source": [
    "# Note: The 'mean_fit_time' property (in files like above) is particularly useful for our report,\n",
    "# yet the name is misleading, as this is the TOTAL fitting time it takes \n",
    "# for performing ALL the folds for one set of hyperparameters.\n",
    "# The 'mean_fit_time' is a 1-D array, placed in the same corresponding order as the 'params' field."
   ]
  },
  {
   "cell_type": "markdown",
   "metadata": {
    "id": "ruCOWRMsapiI"
   },
   "source": [
    "## 64 x 64 images ##"
   ]
  },
  {
   "cell_type": "code",
   "execution_count": 11,
   "metadata": {
    "id": "_VkgZNIRapiI"
   },
   "outputs": [],
   "source": [
    "data = pandas.read_csv('data64.csv')\n",
    "y = data['label'].values\n",
    "X = data[data.columns[1:]].values\n",
    "\n",
    "# 70-30 train-test split\n",
    "X_train, X_test, y_train, y_test = train_test_split(X, y, test_size = 0.7, random_state = 1)"
   ]
  },
  {
   "cell_type": "code",
   "execution_count": 12,
   "metadata": {
    "id": "1_93p7DyapiJ"
   },
   "outputs": [
    {
     "name": "stdout",
     "output_type": "stream",
     "text": [
      "Fitting 5 folds for each of 10 candidates, totalling 50 fits\n",
      "Randomized search (10 iterations) for 64 x 64 images took 123.62241625785828 seconds\n"
     ]
    },
    {
     "name": "stderr",
     "output_type": "stream",
     "text": [
      "/Users/michaelzhou/anaconda3/lib/python3.7/site-packages/sklearn/linear_model/_logistic.py:765: ConvergenceWarning: lbfgs failed to converge (status=1):\n",
      "STOP: TOTAL NO. of ITERATIONS REACHED LIMIT.\n",
      "\n",
      "Increase the number of iterations (max_iter) or scale the data as shown in:\n",
      "    https://scikit-learn.org/stable/modules/preprocessing.html\n",
      "Please also refer to the documentation for alternative solver options:\n",
      "    https://scikit-learn.org/stable/modules/linear_model.html#logistic-regression\n",
      "  extra_warning_msg=_LOGISTIC_SOLVER_CONVERGENCE_MSG)\n"
     ]
    }
   ],
   "source": [
    "grid={\"C\" : np.append(np.logspace(-3,3,7), 0), 'penalty' : [\"l2\"], \"max_iter\": [100,150,200,250,300,350,400]} # l1: lasso, l2: ridge\n",
    "logreg=LogisticRegression()\n",
    "logreg_cv=RandomizedSearchCV(logreg,grid,cv=5,n_jobs=-1,verbose=4,random_state=1,n_iter=10) # run all jobs in parallel (n_jobs=-1), and print the CV accuracy per fold on the terminal (verbose = 4)\n",
    "t0 = time.time()\n",
    "logreg_cv.fit(X_train,y_train)\n",
    "t1 = time.time()\n",
    "print('Randomized search (10 iterations) for 64 x 64 images took', t1 - t0, 'seconds')"
   ]
  },
  {
   "cell_type": "code",
   "execution_count": 13,
   "metadata": {
    "scrolled": true
   },
   "outputs": [
    {
     "name": "stdout",
     "output_type": "stream",
     "text": [
      "tuned hyperparameters: (best parameters)  {'penalty': 'l2', 'max_iter': 200, 'C': 0.001}\n",
      "CV accuracy : 0.8306666666666667\n"
     ]
    }
   ],
   "source": [
    "print(\"tuned hyperparameters: (best parameters) \",logreg_cv.best_params_)\n",
    "print(\"CV accuracy :\",logreg_cv.best_score_)"
   ]
  },
  {
   "cell_type": "code",
   "execution_count": 14,
   "metadata": {
    "id": "zGKRVJP8apiJ"
   },
   "outputs": [
    {
     "name": "stdout",
     "output_type": "stream",
     "text": [
      "Training for 64 x 64 images took 3.9675979614257812 seconds\n"
     ]
    },
    {
     "name": "stderr",
     "output_type": "stream",
     "text": [
      "/Users/michaelzhou/anaconda3/lib/python3.7/site-packages/sklearn/linear_model/_logistic.py:765: ConvergenceWarning: lbfgs failed to converge (status=1):\n",
      "STOP: TOTAL NO. of ITERATIONS REACHED LIMIT.\n",
      "\n",
      "Increase the number of iterations (max_iter) or scale the data as shown in:\n",
      "    https://scikit-learn.org/stable/modules/preprocessing.html\n",
      "Please also refer to the documentation for alternative solver options:\n",
      "    https://scikit-learn.org/stable/modules/linear_model.html#logistic-regression\n",
      "  extra_warning_msg=_LOGISTIC_SOLVER_CONVERGENCE_MSG)\n"
     ]
    }
   ],
   "source": [
    "C = logreg_cv.best_params_['C']\n",
    "max_iter = logreg_cv.best_params_['max_iter']\n",
    "penalty = logreg_cv.best_params_['penalty']\n",
    "\n",
    "lr = LogisticRegression(max_iter=max_iter, C=C, penalty=penalty)\n",
    "t0 = time.time()\n",
    "lr.fit(X_train, y_train.flatten())\n",
    "t1 = time.time()\n",
    "print('Training for 64 x 64 images took', t1 - t0, 'seconds')"
   ]
  },
  {
   "cell_type": "code",
   "execution_count": 15,
   "metadata": {
    "id": "aDb4C0AhapiJ",
    "scrolled": true
   },
   "outputs": [
    {
     "data": {
      "text/plain": [
       "0.9946666666666667"
      ]
     },
     "execution_count": 15,
     "metadata": {},
     "output_type": "execute_result"
    }
   ],
   "source": [
    "# training accuracy\n",
    "train_acc = accuracy_score(y_train, lr.predict(X_train)) \n",
    "train_acc"
   ]
  },
  {
   "cell_type": "code",
   "execution_count": 16,
   "metadata": {
    "id": "d16iPRPpapiK",
    "scrolled": false
   },
   "outputs": [
    {
     "data": {
      "text/plain": [
       "0.8425714285714285"
      ]
     },
     "execution_count": 16,
     "metadata": {},
     "output_type": "execute_result"
    }
   ],
   "source": [
    "# test accuracy\n",
    "test_acc = accuracy_score(y_test, lr.predict(X_test)) \n",
    "test_acc"
   ]
  },
  {
   "cell_type": "code",
   "execution_count": 17,
   "metadata": {},
   "outputs": [],
   "source": [
    "# write cv results (such as mean fit times for each hyperparam configuration) to file\n",
    "with open('logreg_64_randomcv.txt', 'w') as file:\n",
    "    file.write(str(logreg_cv.cv_results_))\n",
    "    file.close()"
   ]
  },
  {
   "cell_type": "markdown",
   "metadata": {
    "id": "F_7LPFckesju"
   },
   "source": [
    "### Resources (cite for report):\n",
    "* https://www.kaggle.com/enespolat/grid-search-with-logistic-regression "
   ]
  },
  {
   "cell_type": "code",
   "execution_count": null,
   "metadata": {},
   "outputs": [],
   "source": []
  }
 ],
 "metadata": {
  "accelerator": "GPU",
  "colab": {
   "collapsed_sections": [],
   "name": "Logistic Regression.ipynb",
   "provenance": []
  },
  "kernelspec": {
   "display_name": "Python 3",
   "language": "python",
   "name": "python3"
  },
  "language_info": {
   "codemirror_mode": {
    "name": "ipython",
    "version": 3
   },
   "file_extension": ".py",
   "mimetype": "text/x-python",
   "name": "python",
   "nbconvert_exporter": "python",
   "pygments_lexer": "ipython3",
   "version": "3.7.6"
  }
 },
 "nbformat": 4,
 "nbformat_minor": 1
}
