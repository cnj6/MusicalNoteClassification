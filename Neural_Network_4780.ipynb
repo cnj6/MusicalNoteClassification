{
 "cells": [
  {
   "cell_type": "code",
   "execution_count": null,
   "metadata": {
    "id": "ZU3LaV45oeI1"
   },
   "outputs": [],
   "source": [
    "#import libraries\n",
    "import numpy as np\n",
    "import pandas\n",
    "from sklearn.linear_model import LogisticRegression, LogisticRegressionCV\n",
    "from sklearn.model_selection import train_test_split, GridSearchCV\n",
    "from sklearn.metrics import accuracy_score\n",
    "from sklearn.neural_network import MLPClassifier\n",
    "from sklearn.neural_network import MLPRegressor\n",
    "from sklearn.metrics import classification_report"
   ]
  },
  {
   "cell_type": "code",
   "execution_count": null,
   "metadata": {
    "id": "xu4UtD9GotNW"
   },
   "outputs": [],
   "source": [
    "#import data\n",
    "data_small = pandas.read_csv('data28.csv')\n",
    "y = data_small['label']\n",
    "X = data_small[data_small.columns[1:]]\n",
    "\n",
    "# 70-30 train-test split\n",
    "X_train, X_test, y_train, y_test = train_test_split(X, y, test_size = 0.7, random_state = 1)"
   ]
  },
  {
   "cell_type": "code",
   "execution_count": null,
   "metadata": {
    "id": "A9Jz4ymUo2J_"
   },
   "outputs": [],
   "source": [
    "#preprocess\n",
    "\n",
    "indices_to_keep=~X_train.isin([np.nan,np.inf,-np.inf]).any(1)\n",
    "\n",
    "X_train=X_train[indices_to_keep]\n",
    "y_train=y_train[indices_to_keep]\n",
    "\n",
    "indices_to_keep_test=~X_test.isin([np.nan,np.inf,-np.inf]).any(1)\n",
    "\n",
    "X_test=X_test[indices_to_keep_test]\n",
    "y_test=y_test[indices_to_keep_test]"
   ]
  },
  {
   "cell_type": "code",
   "execution_count": null,
   "metadata": {
    "id": "Hg2yC3qbovk_"
   },
   "outputs": [],
   "source": [
    "#Neural Network to generate predictions\n",
    "def predNN_2(X_train, y_train):\n",
    "    clf = GridSearchCV(estimator=MLPClassifier(),\n",
    "          param_grid={'hidden_layer_sizes': [100],#[50, 100, 125, 150, 200],\n",
    "                      'activation': ['relu', 'tanh'],\n",
    "                      'solver': ['sgd','lbfgs'],\n",
    "                      'max_iter': [50000]})\n",
    "                     #'learning_rate': ['constant', 'invscaling', 'adaptive'],\n",
    "                      #'learning_rate_init': [.0001, .001, .01, .1]},\n",
    "                      #scoring=customScore)\n",
    "    print(\"Fitting\")\n",
    "    clf.fit(X_train, y_train)\n",
    "    print(\"Optimized parameters:\", clf.best_params_)\n",
    "    print(\"Weighted validation score:\", clf.best_score_)\n",
    "    return clf"
   ]
  },
  {
   "cell_type": "code",
   "execution_count": null,
   "metadata": {
    "colab": {
     "base_uri": "https://localhost:8080/"
    },
    "id": "EoaPtCGNozj0",
    "outputId": "17084d71-3b6e-4baa-d1bf-39bca26724d8"
   },
   "outputs": [
    {
     "name": "stdout",
     "output_type": "stream",
     "text": [
      "Fitting\n"
     ]
    },
    {
     "name": "stderr",
     "output_type": "stream",
     "text": [
      "/usr/local/lib/python3.7/dist-packages/sklearn/neural_network/_multilayer_perceptron.py:470: ConvergenceWarning: lbfgs failed to converge (status=1):\n",
      "STOP: TOTAL NO. of f AND g EVALUATIONS EXCEEDS LIMIT.\n",
      "\n",
      "Increase the number of iterations (max_iter) or scale the data as shown in:\n",
      "    https://scikit-learn.org/stable/modules/preprocessing.html\n",
      "  self.n_iter_ = _check_optimize_result(\"lbfgs\", opt_res, self.max_iter)\n",
      "/usr/local/lib/python3.7/dist-packages/sklearn/neural_network/_multilayer_perceptron.py:470: ConvergenceWarning: lbfgs failed to converge (status=1):\n",
      "STOP: TOTAL NO. of f AND g EVALUATIONS EXCEEDS LIMIT.\n",
      "\n",
      "Increase the number of iterations (max_iter) or scale the data as shown in:\n",
      "    https://scikit-learn.org/stable/modules/preprocessing.html\n",
      "  self.n_iter_ = _check_optimize_result(\"lbfgs\", opt_res, self.max_iter)\n",
      "/usr/local/lib/python3.7/dist-packages/sklearn/neural_network/_multilayer_perceptron.py:470: ConvergenceWarning: lbfgs failed to converge (status=1):\n",
      "STOP: TOTAL NO. of f AND g EVALUATIONS EXCEEDS LIMIT.\n",
      "\n",
      "Increase the number of iterations (max_iter) or scale the data as shown in:\n",
      "    https://scikit-learn.org/stable/modules/preprocessing.html\n",
      "  self.n_iter_ = _check_optimize_result(\"lbfgs\", opt_res, self.max_iter)\n",
      "/usr/local/lib/python3.7/dist-packages/sklearn/neural_network/_multilayer_perceptron.py:470: ConvergenceWarning: lbfgs failed to converge (status=1):\n",
      "STOP: TOTAL NO. of f AND g EVALUATIONS EXCEEDS LIMIT.\n",
      "\n",
      "Increase the number of iterations (max_iter) or scale the data as shown in:\n",
      "    https://scikit-learn.org/stable/modules/preprocessing.html\n",
      "  self.n_iter_ = _check_optimize_result(\"lbfgs\", opt_res, self.max_iter)\n"
     ]
    },
    {
     "name": "stdout",
     "output_type": "stream",
     "text": [
      "Optimized parameters: {'activation': 'tanh', 'hidden_layer_sizes': 100, 'max_iter': 50000, 'solver': 'lbfgs'}\n",
      "Weighted validation score: 0.7892334928857124\n"
     ]
    }
   ],
   "source": [
    "#Calling Neural Network for Predictions\n",
    "\n",
    "classifier = predNN_2(X_train, y_train)\n",
    "preds = classifier.predict(X_test)\n"
   ]
  },
  {
   "cell_type": "code",
   "execution_count": null,
   "metadata": {
    "colab": {
     "base_uri": "https://localhost:8080/"
    },
    "id": "K3PsZopPo6qW",
    "outputId": "f8d8636b-c25f-4516-dd1d-4e24cef6f146"
   },
   "outputs": [
    {
     "data": {
      "text/plain": [
       "1.0"
      ]
     },
     "execution_count": 13,
     "metadata": {
      "tags": []
     },
     "output_type": "execute_result"
    }
   ],
   "source": [
    "#training accuracy\n",
    "train_accNN = accuracy_score(y_train, classifier.predict(X_train)) \n",
    "train_accNN"
   ]
  },
  {
   "cell_type": "code",
   "execution_count": null,
   "metadata": {
    "colab": {
     "base_uri": "https://localhost:8080/"
    },
    "id": "FnlDbtlQo7PO",
    "outputId": "e336350b-3624-4422-ef32-acb885965bb7"
   },
   "outputs": [
    {
     "data": {
      "text/plain": [
       "0.8915973616289073"
      ]
     },
     "execution_count": 14,
     "metadata": {
      "tags": []
     },
     "output_type": "execute_result"
    }
   ],
   "source": [
    "#test accuracy\n",
    "test_accNN = accuracy_score(y_test, classifier.predict(X_test)) \n",
    "test_accNN"
   ]
  }
 ],
 "metadata": {
  "colab": {
   "name": "Neural Network 4780.ipynb",
   "provenance": []
  },
  "kernelspec": {
   "display_name": "Python 3",
   "language": "python",
   "name": "python3"
  },
  "language_info": {
   "codemirror_mode": {
    "name": "ipython",
    "version": 3
   },
   "file_extension": ".py",
   "mimetype": "text/x-python",
   "name": "python",
   "nbconvert_exporter": "python",
   "pygments_lexer": "ipython3",
   "version": "3.7.6"
  }
 },
 "nbformat": 4,
 "nbformat_minor": 1
}
